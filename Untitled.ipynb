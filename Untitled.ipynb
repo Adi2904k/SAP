{
 "cells": [
  {
   "cell_type": "code",
   "execution_count": 1,
   "id": "11e33a55-81c7-4656-86be-48a4d8f26c7d",
   "metadata": {},
   "outputs": [
    {
     "name": "stdout",
     "output_type": "stream",
     "text": [
      "Hello World\n"
     ]
    }
   ],
   "source": [
    "print(\"Hello World\")"
   ]
  },
  {
   "cell_type": "code",
   "execution_count": 2,
   "id": "a6e215f3-6a85-4045-8614-0cb837723e12",
   "metadata": {},
   "outputs": [],
   "source": [
    "x=3"
   ]
  },
  {
   "cell_type": "code",
   "execution_count": 3,
   "id": "08951df0-0e9f-4932-9ca3-7e27a3687111",
   "metadata": {},
   "outputs": [
    {
     "name": "stdout",
     "output_type": "stream",
     "text": [
      "3\n"
     ]
    }
   ],
   "source": [
    "print(x)"
   ]
  },
  {
   "cell_type": "code",
   "execution_count": 8,
   "id": "36c167fd-6b50-4c8f-99c6-25708eb5edf8",
   "metadata": {},
   "outputs": [
    {
     "name": "stdout",
     "output_type": "stream",
     "text": [
      "10\n",
      "50\n"
     ]
    }
   ],
   "source": [
    "a = 50\n",
    "def hello():\n",
    "    a = 10 \n",
    "    print(a)\n",
    "    return\n",
    "hello()\n",
    "print(a)\n"
   ]
  },
  {
   "cell_type": "code",
   "execution_count": null,
   "id": "e114047b-5f6e-4b5f-8985-41163b3faf27",
   "metadata": {},
   "outputs": [],
   "source": []
  },
  {
   "cell_type": "code",
   "execution_count": 9,
   "id": "592aa26c-ab4a-4bd8-bbe0-e80511a26e6f",
   "metadata": {},
   "outputs": [
    {
     "data": {
      "text/plain": [
       "False"
      ]
     },
     "execution_count": 9,
     "metadata": {},
     "output_type": "execute_result"
    }
   ],
   "source": [
    "x=12\n",
    "y=3\n",
    "\n",
    "x==y"
   ]
  },
  {
   "cell_type": "code",
   "execution_count": 10,
   "id": "e21c913f-6486-47ad-ba26-21880f698c70",
   "metadata": {},
   "outputs": [],
   "source": [
    "x+=2"
   ]
  },
  {
   "cell_type": "code",
   "execution_count": 11,
   "id": "1ce909bb-a14a-4947-8d09-a5869bc0b074",
   "metadata": {},
   "outputs": [
    {
     "name": "stdin",
     "output_type": "stream",
     "text": [
      "Enter any no. 10\n"
     ]
    }
   ],
   "source": [
    "x=input(\"Enter any no.\" )"
   ]
  },
  {
   "cell_type": "code",
   "execution_count": 12,
   "id": "64b7327e-6039-4e5d-8d69-b6b34acdac2f",
   "metadata": {},
   "outputs": [
    {
     "data": {
      "text/plain": [
       "str"
      ]
     },
     "execution_count": 12,
     "metadata": {},
     "output_type": "execute_result"
    }
   ],
   "source": [
    "type(x)"
   ]
  },
  {
   "cell_type": "code",
   "execution_count": null,
   "id": "2eac0c13-610d-4145-a2f1-6e6c19259b49",
   "metadata": {},
   "outputs": [],
   "source": []
  },
  {
   "cell_type": "code",
   "execution_count": 16,
   "id": "525d0514-b870-4f26-aee0-2e95344f4e04",
   "metadata": {},
   "outputs": [],
   "source": [
    "x=type(x)"
   ]
  },
  {
   "cell_type": "code",
   "execution_count": null,
   "id": "1052ddc2-ca5d-4cfc-9e5c-c263598a1f30",
   "metadata": {},
   "outputs": [],
   "source": []
  },
  {
   "cell_type": "code",
   "execution_count": 19,
   "id": "b2d972b1-e374-4651-8bbb-6fb49c4683c9",
   "metadata": {},
   "outputs": [],
   "source": [
    "statement=('Python')"
   ]
  },
  {
   "cell_type": "code",
   "execution_count": 20,
   "id": "5ccf6696-7ff0-407e-8d4e-392240c215fe",
   "metadata": {},
   "outputs": [
    {
     "name": "stdout",
     "output_type": "stream",
     "text": [
      "Python\n"
     ]
    }
   ],
   "source": [
    "print(statement)"
   ]
  },
  {
   "cell_type": "code",
   "execution_count": 21,
   "id": "b65246e8-5f32-43b8-bd4b-a8b35825cb1a",
   "metadata": {},
   "outputs": [
    {
     "data": {
      "text/plain": [
       "'PYTHON'"
      ]
     },
     "execution_count": 21,
     "metadata": {},
     "output_type": "execute_result"
    }
   ],
   "source": [
    "statement.upper()"
   ]
  },
  {
   "cell_type": "code",
   "execution_count": 22,
   "id": "bd3867b1-ff81-446e-9d02-0f66e6f55488",
   "metadata": {},
   "outputs": [
    {
     "data": {
      "text/plain": [
       "'python'"
      ]
     },
     "execution_count": 22,
     "metadata": {},
     "output_type": "execute_result"
    }
   ],
   "source": [
    "statement.lower()"
   ]
  },
  {
   "cell_type": "code",
   "execution_count": 23,
   "id": "0f89bc83-0bd6-4e79-adf9-0caae38843b8",
   "metadata": {},
   "outputs": [
    {
     "data": {
      "text/plain": [
       "'Python'"
      ]
     },
     "execution_count": 23,
     "metadata": {},
     "output_type": "execute_result"
    }
   ],
   "source": [
    "statement.rstrip()"
   ]
  },
  {
   "cell_type": "code",
   "execution_count": 25,
   "id": "322fde30-e4ba-4821-a34f-410b07ba5f6a",
   "metadata": {},
   "outputs": [
    {
     "name": "stdout",
     "output_type": "stream",
     "text": [
      "Hello, My name is Aditya and I have enrolled in Code Unnati Program 3.0 \n"
     ]
    }
   ],
   "source": [
    "name=\"Aditya\"\n",
    "course=\"Code Unnati Program 3.0 \"\n",
    "\n",
    "print(f\"Hello, My name is {name} and I have enrolled in {course}\")"
   ]
  },
  {
   "cell_type": "code",
   "execution_count": 28,
   "id": "86d7cf47-8501-4cb4-9fa9-9e8d3583b338",
   "metadata": {},
   "outputs": [
    {
     "data": {
      "text/plain": [
       "'FC'"
      ]
     },
     "execution_count": 28,
     "metadata": {},
     "output_type": "execute_result"
    }
   ],
   "source": [
    "str1=\"FACE\"\n",
    "str1[0:3:2]"
   ]
  },
  {
   "cell_type": "code",
   "execution_count": null,
   "id": "85c460aa-1d9f-4431-ac74-36c3d68960b5",
   "metadata": {},
   "outputs": [],
   "source": [
    "ca"
   ]
  }
 ],
 "metadata": {
  "kernelspec": {
   "display_name": "Python 3 (ipykernel)",
   "language": "python",
   "name": "python3"
  },
  "language_info": {
   "codemirror_mode": {
    "name": "ipython",
    "version": 3
   },
   "file_extension": ".py",
   "mimetype": "text/x-python",
   "name": "python",
   "nbconvert_exporter": "python",
   "pygments_lexer": "ipython3",
   "version": "3.12.4"
  }
 },
 "nbformat": 4,
 "nbformat_minor": 5
}
