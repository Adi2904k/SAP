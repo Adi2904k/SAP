{
 "cells": [
  {
   "cell_type": "markdown",
   "id": "7886d454-7a9d-43da-866b-f745d10defaf",
   "metadata": {},
   "source": [
    "### PVPIT"
   ]
  },
  {
   "cell_type": "code",
   "execution_count": 2,
   "id": "4187dc28-549a-46d7-b3a6-e74d4a55d9db",
   "metadata": {},
   "outputs": [
    {
     "name": "stdout",
     "output_type": "stream",
     "text": [
      "10\n",
      "50\n"
     ]
    }
   ],
   "source": [
    "a =50\n",
    "def hello(): \n",
    "    a =10 \n",
    "    print(a) \n",
    "    return \n",
    "hello()\n",
    "print(a)"
   ]
  },
  {
   "cell_type": "code",
   "execution_count": 4,
   "id": "eedfeaef-211b-413a-8316-7b03c0e3eae5",
   "metadata": {},
   "outputs": [
    {
     "name": "stdin",
     "output_type": "stream",
     "text": [
      "nter x : 10\n"
     ]
    }
   ],
   "source": [
    "x = int(input('nter x :'))"
   ]
  },
  {
   "cell_type": "code",
   "execution_count": 6,
   "id": "f14dab2f-09dd-4261-a7c3-5ff79302bdca",
   "metadata": {},
   "outputs": [
    {
     "data": {
      "text/plain": [
       "int"
      ]
     },
     "execution_count": 6,
     "metadata": {},
     "output_type": "execute_result"
    }
   ],
   "source": [
    "type(x)"
   ]
  },
  {
   "cell_type": "code",
   "execution_count": 8,
   "id": "e3026156-b532-4223-96ab-5fb662e7b4b1",
   "metadata": {},
   "outputs": [
    {
     "data": {
      "text/plain": [
       "10.0"
      ]
     },
     "execution_count": 8,
     "metadata": {},
     "output_type": "execute_result"
    }
   ],
   "source": [
    "float(x) "
   ]
  },
  {
   "cell_type": "code",
   "execution_count": 10,
   "id": "ecdaa370-517b-4ec3-8489-750cec272d2e",
   "metadata": {},
   "outputs": [
    {
     "data": {
      "text/plain": [
       "int"
      ]
     },
     "execution_count": 10,
     "metadata": {},
     "output_type": "execute_result"
    }
   ],
   "source": [
    "type(x) "
   ]
  },
  {
   "cell_type": "code",
   "execution_count": 18,
   "id": "20a745e9-3c39-49c4-b08e-da5debeea86c",
   "metadata": {},
   "outputs": [],
   "source": [
    "s ='I m the god'"
   ]
  },
  {
   "cell_type": "code",
   "execution_count": 22,
   "id": "0af1ac6f-e83c-4e11-bf84-d2c2263cda98",
   "metadata": {},
   "outputs": [
    {
     "data": {
      "text/plain": [
       "'I M THE GOD'"
      ]
     },
     "execution_count": 22,
     "metadata": {},
     "output_type": "execute_result"
    }
   ],
   "source": [
    "s.upper()"
   ]
  },
  {
   "cell_type": "code",
   "execution_count": 24,
   "id": "c3acd37e-cc2d-4d89-a77b-eece64981fce",
   "metadata": {},
   "outputs": [
    {
     "data": {
      "text/plain": [
       "'i m the god'"
      ]
     },
     "execution_count": 24,
     "metadata": {},
     "output_type": "execute_result"
    }
   ],
   "source": [
    "s.lower() "
   ]
  },
  {
   "cell_type": "code",
   "execution_count": 26,
   "id": "a6bd4da7-96a2-4ea1-8c8b-47173e10fc97",
   "metadata": {},
   "outputs": [
    {
     "data": {
      "text/plain": [
       "'I M The God'"
      ]
     },
     "execution_count": 26,
     "metadata": {},
     "output_type": "execute_result"
    }
   ],
   "source": [
    "s.title()"
   ]
  },
  {
   "cell_type": "code",
   "execution_count": 28,
   "id": "ea66431c-fba9-48c6-819c-bf97a545300b",
   "metadata": {},
   "outputs": [
    {
     "name": "stdout",
     "output_type": "stream",
     "text": [
      "hi aayush,be my self\n"
     ]
    }
   ],
   "source": [
    "name  = 'aayush'\n",
    "course = 'my self' \n",
    "print(f\"hi {name},be {course}\") "
   ]
  },
  {
   "cell_type": "code",
   "execution_count": 44,
   "id": "bc232085-5fc3-48b9-9afa-230234db6372",
   "metadata": {},
   "outputs": [
    {
     "name": "stdout",
     "output_type": "stream",
     "text": [
      "ABC\n"
     ]
    }
   ],
   "source": [
    "st = 'ABCDE'\n",
    "print(st[:-2]) "
   ]
  },
  {
   "cell_type": "code",
   "execution_count": null,
   "id": "21928307-ed82-4ee1-8a2d-4325100c04c6",
   "metadata": {},
   "outputs": [],
   "source": [
    "tup1 = ('AA' , 2) "
   ]
  }
 ],
 "metadata": {
  "kernelspec": {
   "display_name": "Python 3 (ipykernel)",
   "language": "python",
   "name": "python3"
  },
  "language_info": {
   "codemirror_mode": {
    "name": "ipython",
    "version": 3
   },
   "file_extension": ".py",
   "mimetype": "text/x-python",
   "name": "python",
   "nbconvert_exporter": "python",
   "pygments_lexer": "ipython3",
   "version": "3.11.9"
  }
 },
 "nbformat": 4,
 "nbformat_minor": 5
}
